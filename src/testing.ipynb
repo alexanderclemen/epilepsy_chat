{
 "cells": [
  {
   "cell_type": "code",
   "execution_count": 8,
   "metadata": {},
   "outputs": [
    {
     "ename": "ImportError",
     "evalue": "cannot import name 'TO_POLER' from 'constants' (/home/alex/Documents/02_study/duesseldorf/MA_Linguistik/23_WS_Python/epilepsy_chat/src/constants.py)",
     "output_type": "error",
     "traceback": [
      "\u001b[0;31m---------------------------------------------------------------------------\u001b[0m",
      "\u001b[0;31mImportError\u001b[0m                               Traceback (most recent call last)",
      "Cell \u001b[0;32mIn[8], line 3\u001b[0m\n\u001b[1;32m      1\u001b[0m \u001b[38;5;28;01mfrom\u001b[39;00m\u001b[38;5;250m \u001b[39m\u001b[38;5;21;01mremove_dot_string\u001b[39;00m\u001b[38;5;250m \u001b[39m\u001b[38;5;28;01mimport\u001b[39;00m removeDotString\n\u001b[1;32m      2\u001b[0m \u001b[38;5;28;01mimport\u001b[39;00m\u001b[38;5;250m \u001b[39m\u001b[38;5;21;01mre\u001b[39;00m\n\u001b[0;32m----> 3\u001b[0m \u001b[38;5;28;01mfrom\u001b[39;00m\u001b[38;5;250m \u001b[39m\u001b[38;5;21;01mconstants\u001b[39;00m\u001b[38;5;250m \u001b[39m\u001b[38;5;28;01mimport\u001b[39;00m TO_POLER\n",
      "\u001b[0;31mImportError\u001b[0m: cannot import name 'TO_POLER' from 'constants' (/home/alex/Documents/02_study/duesseldorf/MA_Linguistik/23_WS_Python/epilepsy_chat/src/constants.py)"
     ]
    }
   ],
   "source": []
  },
  {
   "cell_type": "code",
   "execution_count": 9,
   "metadata": {},
   "outputs": [],
   "source": []
  },
  {
   "cell_type": "code",
   "execution_count": 10,
   "metadata": {},
   "outputs": [
    {
     "data": {
      "text/plain": [
       "['the boy and the dog are looking at the frog .',\n",
       " 'the frog is getting out_of the jar .',\n",
       " 'the frog escapes through the window .',\n",
       " 'the boy and the dog look for the frog .',\n",
       " 'the boy and the dog call for the frog .',\n",
       " 'the boy and the dog keep looking for the frog .',\n",
       " 'the boy (.) looks at the dog .',\n",
       " 'the dog breaks the jar .',\n",
       " 'the boy and the dog keep calling for the frog .',\n",
       " 'the boy and the dog keep looking for the frog .',\n",
       " \"the boy's nose gets bit by a gopher .\",\n",
       " 'the dog knocks down (.) a beehive .',\n",
       " 'the boy climbs up a tree .',\n",
       " '<the &~d> [//] the boy gets chased by an owl .',\n",
       " 'the dog gets chased by bees .',\n",
       " 'the owl chases the boy .',\n",
       " \"the boy holds on (.) to the deer's antlers .\",\n",
       " 'the deer gets up .',\n",
       " 'runs away .',\n",
       " 'the boy falls off .',\n",
       " 'the boy and the dog are in the pond .',\n",
       " 'the boy and the dog are in the pond .',\n",
       " 'the boy and the dog hear something .',\n",
       " 'the boy says ssh .',\n",
       " 'the boy and the dog climb over the log .',\n",
       " 'the boy and the dog see two frogs .',\n",
       " 'the boy and the dog see two frogs and the babies .',\n",
       " 'the boy takes one frog and leaves .',\n",
       " 'and waves goodbye .']"
      ]
     },
     "execution_count": 10,
     "metadata": {},
     "output_type": "execute_result"
    }
   ],
   "source": []
  }
 ],
 "metadata": {
  "kernelspec": {
   "display_name": "epichatV",
   "language": "python",
   "name": "python3"
  },
  "language_info": {
   "codemirror_mode": {
    "name": "ipython",
    "version": 3
   },
   "file_extension": ".py",
   "mimetype": "text/x-python",
   "name": "python",
   "nbconvert_exporter": "python",
   "pygments_lexer": "ipython3",
   "version": "3.12.3"
  }
 },
 "nbformat": 4,
 "nbformat_minor": 2
}
